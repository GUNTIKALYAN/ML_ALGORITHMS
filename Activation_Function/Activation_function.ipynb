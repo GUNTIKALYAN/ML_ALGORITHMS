{
 "cells": [
  {
   "cell_type": "markdown",
   "id": "31eec24f",
   "metadata": {},
   "source": [
    "#### Activation function decides whether a neuron should be activated by calculating the weighted sum of inputs and adding a bias term. This helps the model make complex decisions and predictions by introducing non-linearities to the output of each neuron."
   ]
  },
  {
   "cell_type": "markdown",
   "id": "5fbb198f",
   "metadata": {},
   "source": [
    "### Sigmoid"
   ]
  },
  {
   "cell_type": "markdown",
   "id": "8eb4ea1b",
   "metadata": {},
   "source": [
    "#### Sigmoid function is characterized by 'S' shape. It is mathematically defined as A = 1/1+e^-x This formula ensures a smooth and continuous output that is essential for gradient-based optimization methods."
   ]
  },
  {
   "cell_type": "code",
   "execution_count": 1,
   "id": "ef8c5823",
   "metadata": {},
   "outputs": [],
   "source": [
    "import math\n",
    "\n",
    "def sigmoid(x):\n",
    "  return 1 / (1 + math.exp(-x))\n"
   ]
  },
  {
   "cell_type": "code",
   "execution_count": 2,
   "id": "bffed954",
   "metadata": {},
   "outputs": [
    {
     "data": {
      "text/plain": [
       "1.0"
      ]
     },
     "execution_count": 2,
     "metadata": {},
     "output_type": "execute_result"
    }
   ],
   "source": [
    "sigmoid(100)"
   ]
  },
  {
   "cell_type": "code",
   "execution_count": 3,
   "id": "c065e6f9",
   "metadata": {},
   "outputs": [
    {
     "data": {
      "text/plain": [
       "0.7310585786300049"
      ]
     },
     "execution_count": 3,
     "metadata": {},
     "output_type": "execute_result"
    }
   ],
   "source": [
    "sigmoid(1)\n"
   ]
  },
  {
   "cell_type": "code",
   "execution_count": 4,
   "id": "ca521a1c",
   "metadata": {},
   "outputs": [
    {
     "data": {
      "text/plain": [
       "4.780892883885469e-25"
      ]
     },
     "execution_count": 4,
     "metadata": {},
     "output_type": "execute_result"
    }
   ],
   "source": [
    "sigmoid(-56)\n"
   ]
  },
  {
   "cell_type": "code",
   "execution_count": 5,
   "id": "7c4fc064",
   "metadata": {},
   "outputs": [
    {
     "data": {
      "text/plain": [
       "0.6224593312018546"
      ]
     },
     "execution_count": 5,
     "metadata": {},
     "output_type": "execute_result"
    }
   ],
   "source": [
    "sigmoid(0.5)\n"
   ]
  },
  {
   "cell_type": "markdown",
   "id": "fedc16e0",
   "metadata": {},
   "source": [
    "### 2. Tanh Activation Function "
   ]
  },
  {
   "cell_type": "markdown",
   "id": "541b5f8e",
   "metadata": {},
   "source": [
    "#### Tanh function is a shifted version of the sigmoid, allowing it to stretch across the y-axis. It is defined as: f(x) = tanh(x) = 2/(1+e^-2x) - 1"
   ]
  },
  {
   "cell_type": "markdown",
   "id": "bdf04d15",
   "metadata": {},
   "source": [
    "#### Value Range: Outputs values from -1 to +1."
   ]
  },
  {
   "cell_type": "code",
   "execution_count": 6,
   "id": "d37d1522",
   "metadata": {},
   "outputs": [],
   "source": [
    "def tanh(x):\n",
    "  return (math.exp(x) - math.exp(-x)) / (math.exp(x) + math.exp(-x))"
   ]
  },
  {
   "cell_type": "code",
   "execution_count": 7,
   "id": "b2fa7933",
   "metadata": {},
   "outputs": [
    {
     "data": {
      "text/plain": [
       "-1.0"
      ]
     },
     "execution_count": 7,
     "metadata": {},
     "output_type": "execute_result"
    }
   ],
   "source": [
    "tanh(-45)"
   ]
  },
  {
   "cell_type": "code",
   "execution_count": 8,
   "id": "e838c836",
   "metadata": {},
   "outputs": [
    {
     "data": {
      "text/plain": [
       "0.9999999958776926"
      ]
     },
     "execution_count": 8,
     "metadata": {},
     "output_type": "execute_result"
    }
   ],
   "source": [
    "tanh(10)"
   ]
  },
  {
   "cell_type": "code",
   "execution_count": 9,
   "id": "df98c6c3",
   "metadata": {},
   "outputs": [
    {
     "data": {
      "text/plain": [
       "0.7615941559557649"
      ]
     },
     "execution_count": 9,
     "metadata": {},
     "output_type": "execute_result"
    }
   ],
   "source": [
    "tanh(1)\n"
   ]
  },
  {
   "cell_type": "markdown",
   "id": "8dce6143",
   "metadata": {},
   "source": [
    "### 3. ReLU (Rectified Linear Unit) Function "
   ]
  },
  {
   "cell_type": "markdown",
   "id": "2a9b6dbf",
   "metadata": {},
   "source": [
    "#### ReLU is defined by A(x)=max(0,x), this means that if the input x is positive, ReLU returns x, if the input is negative, it returns 0."
   ]
  },
  {
   "cell_type": "markdown",
   "id": "0416ed15",
   "metadata": {},
   "source": [
    "#### Value Range: [0,∞), meaning the function only outputs non-negative values."
   ]
  },
  {
   "cell_type": "code",
   "execution_count": 10,
   "id": "19930346",
   "metadata": {},
   "outputs": [],
   "source": [
    "def relu(x):\n",
    "    return max(0,x)"
   ]
  },
  {
   "cell_type": "code",
   "execution_count": 11,
   "id": "b365189e",
   "metadata": {},
   "outputs": [
    {
     "data": {
      "text/plain": [
       "0"
      ]
     },
     "execution_count": 11,
     "metadata": {},
     "output_type": "execute_result"
    }
   ],
   "source": [
    "relu(-10)"
   ]
  },
  {
   "cell_type": "code",
   "execution_count": 13,
   "id": "5f557426",
   "metadata": {},
   "outputs": [
    {
     "data": {
      "text/plain": [
       "1"
      ]
     },
     "execution_count": 13,
     "metadata": {},
     "output_type": "execute_result"
    }
   ],
   "source": [
    "relu(1)\n"
   ]
  },
  {
   "cell_type": "markdown",
   "id": "29292ccd",
   "metadata": {},
   "source": [
    "### 4. Leaky ReLU\n"
   ]
  },
  {
   "cell_type": "code",
   "execution_count": 14,
   "id": "018f91fd",
   "metadata": {},
   "outputs": [],
   "source": [
    "def leaky_relu(x):\n",
    "    return max(0.1*x,x)"
   ]
  },
  {
   "cell_type": "code",
   "execution_count": 15,
   "id": "21a9396d",
   "metadata": {},
   "outputs": [
    {
     "data": {
      "text/plain": [
       "-10.0"
      ]
     },
     "execution_count": 15,
     "metadata": {},
     "output_type": "execute_result"
    }
   ],
   "source": [
    "leaky_relu(-100)\n"
   ]
  },
  {
   "cell_type": "code",
   "execution_count": 16,
   "id": "643d1a06",
   "metadata": {},
   "outputs": [
    {
     "data": {
      "text/plain": [
       "8"
      ]
     },
     "execution_count": 16,
     "metadata": {},
     "output_type": "execute_result"
    }
   ],
   "source": [
    "leaky_relu(8)\n"
   ]
  }
 ],
 "metadata": {
  "kernelspec": {
   "display_name": "base",
   "language": "python",
   "name": "python3"
  },
  "language_info": {
   "codemirror_mode": {
    "name": "ipython",
    "version": 3
   },
   "file_extension": ".py",
   "mimetype": "text/x-python",
   "name": "python",
   "nbconvert_exporter": "python",
   "pygments_lexer": "ipython3",
   "version": "3.12.4"
  }
 },
 "nbformat": 4,
 "nbformat_minor": 5
}
