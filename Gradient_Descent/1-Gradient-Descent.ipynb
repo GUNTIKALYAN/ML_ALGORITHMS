{
 "cells": [
  {
   "cell_type": "code",
   "execution_count": 23,
   "id": "bd843920",
   "metadata": {},
   "outputs": [],
   "source": [
    "import pandas as pd\n",
    "import numpy as np\n",
    "from sklearn.model_selection import train_test_split\n"
   ]
  },
  {
   "cell_type": "code",
   "execution_count": 24,
   "id": "df296f59",
   "metadata": {},
   "outputs": [
    {
     "data": {
      "text/html": [
       "<div>\n",
       "<style scoped>\n",
       "    .dataframe tbody tr th:only-of-type {\n",
       "        vertical-align: middle;\n",
       "    }\n",
       "\n",
       "    .dataframe tbody tr th {\n",
       "        vertical-align: top;\n",
       "    }\n",
       "\n",
       "    .dataframe thead th {\n",
       "        text-align: right;\n",
       "    }\n",
       "</style>\n",
       "<table border=\"1\" class=\"dataframe\">\n",
       "  <thead>\n",
       "    <tr style=\"text-align: right;\">\n",
       "      <th></th>\n",
       "      <th>age</th>\n",
       "      <th>affordibility</th>\n",
       "      <th>bought_insurance</th>\n",
       "    </tr>\n",
       "  </thead>\n",
       "  <tbody>\n",
       "    <tr>\n",
       "      <th>0</th>\n",
       "      <td>22</td>\n",
       "      <td>1</td>\n",
       "      <td>0</td>\n",
       "    </tr>\n",
       "    <tr>\n",
       "      <th>1</th>\n",
       "      <td>25</td>\n",
       "      <td>0</td>\n",
       "      <td>0</td>\n",
       "    </tr>\n",
       "    <tr>\n",
       "      <th>2</th>\n",
       "      <td>47</td>\n",
       "      <td>1</td>\n",
       "      <td>1</td>\n",
       "    </tr>\n",
       "    <tr>\n",
       "      <th>3</th>\n",
       "      <td>52</td>\n",
       "      <td>0</td>\n",
       "      <td>0</td>\n",
       "    </tr>\n",
       "    <tr>\n",
       "      <th>4</th>\n",
       "      <td>46</td>\n",
       "      <td>1</td>\n",
       "      <td>1</td>\n",
       "    </tr>\n",
       "  </tbody>\n",
       "</table>\n",
       "</div>"
      ],
      "text/plain": [
       "   age  affordibility  bought_insurance\n",
       "0   22              1                 0\n",
       "1   25              0                 0\n",
       "2   47              1                 1\n",
       "3   52              0                 0\n",
       "4   46              1                 1"
      ]
     },
     "execution_count": 24,
     "metadata": {},
     "output_type": "execute_result"
    }
   ],
   "source": [
    "df = pd.read_csv(\"insurance_data_2.csv\")\n",
    "df.head()"
   ]
  },
  {
   "cell_type": "code",
   "execution_count": 25,
   "id": "70143c76",
   "metadata": {},
   "outputs": [],
   "source": [
    "X_train, X_test, y_train, y_test = train_test_split(df[['age','affordibility']],df.bought_insurance,test_size=0.2, random_state=25)"
   ]
  },
  {
   "cell_type": "code",
   "execution_count": 26,
   "id": "88d80c1e",
   "metadata": {},
   "outputs": [],
   "source": [
    "X_train_scaled = X_train.copy()\n",
    "X_train_scaled['age'] = X_train_scaled['age'] / 100\n",
    "\n",
    "X_test_scaled = X_test.copy()\n",
    "X_test_scaled['age'] = X_test_scaled['age'] / 100"
   ]
  },
  {
   "cell_type": "code",
   "execution_count": 27,
   "id": "37d943fc",
   "metadata": {},
   "outputs": [
    {
     "data": {
      "text/html": [
       "<div>\n",
       "<style scoped>\n",
       "    .dataframe tbody tr th:only-of-type {\n",
       "        vertical-align: middle;\n",
       "    }\n",
       "\n",
       "    .dataframe tbody tr th {\n",
       "        vertical-align: top;\n",
       "    }\n",
       "\n",
       "    .dataframe thead th {\n",
       "        text-align: right;\n",
       "    }\n",
       "</style>\n",
       "<table border=\"1\" class=\"dataframe\">\n",
       "  <thead>\n",
       "    <tr style=\"text-align: right;\">\n",
       "      <th></th>\n",
       "      <th>age</th>\n",
       "      <th>affordibility</th>\n",
       "    </tr>\n",
       "  </thead>\n",
       "  <tbody>\n",
       "    <tr>\n",
       "      <th>0</th>\n",
       "      <td>0.22</td>\n",
       "      <td>1</td>\n",
       "    </tr>\n",
       "    <tr>\n",
       "      <th>13</th>\n",
       "      <td>0.29</td>\n",
       "      <td>0</td>\n",
       "    </tr>\n",
       "    <tr>\n",
       "      <th>6</th>\n",
       "      <td>0.55</td>\n",
       "      <td>0</td>\n",
       "    </tr>\n",
       "    <tr>\n",
       "      <th>17</th>\n",
       "      <td>0.58</td>\n",
       "      <td>1</td>\n",
       "    </tr>\n",
       "    <tr>\n",
       "      <th>24</th>\n",
       "      <td>0.50</td>\n",
       "      <td>1</td>\n",
       "    </tr>\n",
       "  </tbody>\n",
       "</table>\n",
       "</div>"
      ],
      "text/plain": [
       "     age  affordibility\n",
       "0   0.22              1\n",
       "13  0.29              0\n",
       "6   0.55              0\n",
       "17  0.58              1\n",
       "24  0.50              1"
      ]
     },
     "execution_count": 27,
     "metadata": {},
     "output_type": "execute_result"
    }
   ],
   "source": [
    "X_train_scaled[:5]"
   ]
  },
  {
   "cell_type": "code",
   "execution_count": 28,
   "id": "b2d07e54",
   "metadata": {},
   "outputs": [
    {
     "data": {
      "text/html": [
       "<div>\n",
       "<style scoped>\n",
       "    .dataframe tbody tr th:only-of-type {\n",
       "        vertical-align: middle;\n",
       "    }\n",
       "\n",
       "    .dataframe tbody tr th {\n",
       "        vertical-align: top;\n",
       "    }\n",
       "\n",
       "    .dataframe thead th {\n",
       "        text-align: right;\n",
       "    }\n",
       "</style>\n",
       "<table border=\"1\" class=\"dataframe\">\n",
       "  <thead>\n",
       "    <tr style=\"text-align: right;\">\n",
       "      <th></th>\n",
       "      <th>age</th>\n",
       "      <th>affordibility</th>\n",
       "    </tr>\n",
       "  </thead>\n",
       "  <tbody>\n",
       "    <tr>\n",
       "      <th>2</th>\n",
       "      <td>0.47</td>\n",
       "      <td>1</td>\n",
       "    </tr>\n",
       "    <tr>\n",
       "      <th>10</th>\n",
       "      <td>0.18</td>\n",
       "      <td>1</td>\n",
       "    </tr>\n",
       "    <tr>\n",
       "      <th>21</th>\n",
       "      <td>0.26</td>\n",
       "      <td>0</td>\n",
       "    </tr>\n",
       "    <tr>\n",
       "      <th>11</th>\n",
       "      <td>0.28</td>\n",
       "      <td>1</td>\n",
       "    </tr>\n",
       "    <tr>\n",
       "      <th>14</th>\n",
       "      <td>0.49</td>\n",
       "      <td>1</td>\n",
       "    </tr>\n",
       "  </tbody>\n",
       "</table>\n",
       "</div>"
      ],
      "text/plain": [
       "     age  affordibility\n",
       "2   0.47              1\n",
       "10  0.18              1\n",
       "21  0.26              0\n",
       "11  0.28              1\n",
       "14  0.49              1"
      ]
     },
     "execution_count": 28,
     "metadata": {},
     "output_type": "execute_result"
    }
   ],
   "source": [
    "X_test_scaled[:5]"
   ]
  },
  {
   "cell_type": "markdown",
   "id": "d5e1052d",
   "metadata": {},
   "source": [
    "### Sigmoid"
   ]
  },
  {
   "cell_type": "code",
   "execution_count": 29,
   "id": "f5559b08",
   "metadata": {},
   "outputs": [],
   "source": [
    "def sigmoid(X):\n",
    "   return 1/(1+np.exp(-X))"
   ]
  },
  {
   "cell_type": "markdown",
   "id": "ce01f05e",
   "metadata": {},
   "source": [
    "### Binary Cross-Entropy Loss (Log Loss)\n"
   ]
  },
  {
   "cell_type": "code",
   "execution_count": 30,
   "id": "4dfd3299",
   "metadata": {},
   "outputs": [],
   "source": [
    "def log_loss(y_true, y_predicted):\n",
    "    epsilon = 1e-15  # to prevent log(0)\n",
    "    y_predicted = np.clip(y_predicted, epsilon, 1 - epsilon)\n",
    "    return -np.mean(y_true * np.log(y_predicted) + (1 - y_true) * np.log(1 - y_predicted))\n"
   ]
  },
  {
   "cell_type": "code",
   "execution_count": 31,
   "id": "379728c5",
   "metadata": {},
   "outputs": [],
   "source": [
    "def gradient_descent(age, affordibility, y_true, epochs, loss_threshold):\n",
    "    w1 = w2 = 1\n",
    "    bias = 0\n",
    "    learning_rate = 0.5\n",
    "    n = len(age)\n",
    "\n",
    "    for i in range(epochs):\n",
    "        # Step 1: Weighted sum\n",
    "        weighted_sum = w1 * age + w2 * affordibility + bias\n",
    "        \n",
    "        # Step 2: Apply sigmoid to get predictions\n",
    "        y_predicted = sigmoid(weighted_sum)\n",
    "\n",
    "        # Step 3: Calculate loss\n",
    "        loss = log_loss(y_true, y_predicted)\n",
    "\n",
    "        # Step 4: Compute gradients\n",
    "        w1_grad = (1/n) * np.dot(age.T, (y_predicted - y_true))\n",
    "        w2_grad = (1/n) * np.dot(affordibility.T, (y_predicted - y_true))\n",
    "        bias_grad = np.mean(y_predicted - y_true)\n",
    "\n",
    "        # Step 5: Update parameters\n",
    "        w1 -= learning_rate * w1_grad\n",
    "        w2 -= learning_rate * w2_grad\n",
    "        bias -= learning_rate * bias_grad\n",
    "\n",
    "        # Logging\n",
    "        if i % 50 == 0 or loss <= loss_threshold:\n",
    "            print(f\"Epoch {i}: w1={w1:.4f}, w2={w2:.4f}, bias={bias:.4f}, loss={loss:.4f}\")\n",
    "        \n",
    "        if loss <= loss_threshold:\n",
    "            break\n",
    "\n",
    "    return w1, w2, bias\n"
   ]
  },
  {
   "cell_type": "code",
   "execution_count": 32,
   "id": "63a1bf55",
   "metadata": {},
   "outputs": [],
   "source": [
    "# Predict class (0 or 1)\n",
    "def predict(age, affordibility, w1, w2, bias):\n",
    "    age = age / 100  \n",
    "    weighted_sum = w1 * age + w2 * affordibility + bias\n",
    "    return 1 if sigmoid(weighted_sum) >= 0.5 else 0\n",
    "\n",
    "# Batch predictions\n",
    "def batch_predict(X, w1, w2, bias):\n",
    "    return [predict(age, aff, w1, w2, bias) for age, aff in zip(X['age']*100, X['affordibility'])]\n",
    "\n",
    "# Accuracy\n",
    "def accuracy(y_true, y_pred):\n",
    "    return np.mean(np.array(y_true) == np.array(y_pred))\n"
   ]
  },
  {
   "cell_type": "code",
   "execution_count": 35,
   "id": "1b673aa2",
   "metadata": {},
   "outputs": [
    {
     "name": "stdout",
     "output_type": "stream",
     "text": [
      "Epoch 0: w1=0.9749, w2=0.9483, bias=-0.1134, loss=0.7113\n",
      "Epoch 50: w1=1.5033, w2=1.1084, bias=-1.2319, loss=0.5676\n",
      "Epoch 100: w1=2.2007, w2=1.2942, bias=-1.6607, loss=0.5391\n",
      "Epoch 150: w1=2.8496, w2=1.3697, bias=-1.9861, loss=0.5176\n",
      "Epoch 200: w1=3.4430, w2=1.4042, bias=-2.2571, loss=0.5005\n",
      "Epoch 250: w1=3.9825, w2=1.4239, bias=-2.4944, loss=0.4865\n",
      "Epoch 300: w1=4.4722, w2=1.4388, bias=-2.7074, loss=0.4751\n",
      "Epoch 350: w1=4.9172, w2=1.4526, bias=-2.9012, loss=0.4656\n",
      "Epoch 400: w1=5.3226, w2=1.4665, bias=-3.0788, loss=0.4577\n",
      "Epoch 450: w1=5.6926, w2=1.4808, bias=-3.2422, loss=0.4512\n",
      "Epoch 500: w1=6.0313, w2=1.4955, bias=-3.3931, loss=0.4456\n",
      "Epoch 550: w1=6.3422, w2=1.5104, bias=-3.5328, loss=0.4410\n",
      "Epoch 600: w1=6.6281, w2=1.5253, bias=-3.6623, loss=0.4370\n",
      "Epoch 650: w1=6.8918, w2=1.5400, bias=-3.7827, loss=0.4336\n",
      "Epoch 700: w1=7.1355, w2=1.5546, bias=-3.8947, loss=0.4307\n",
      "Epoch 750: w1=7.3612, w2=1.5688, bias=-3.9991, loss=0.4283\n",
      "Epoch 800: w1=7.5707, w2=1.5826, bias=-4.0965, loss=0.4261\n",
      "Epoch 850: w1=7.7653, w2=1.5960, bias=-4.1875, loss=0.4242\n",
      "Epoch 900: w1=7.9465, w2=1.6090, bias=-4.2727, loss=0.4226\n",
      "Epoch 950: w1=8.1155, w2=1.6215, bias=-4.3525, loss=0.4212\n",
      "Accuracy on test set: 1.0\n"
     ]
    }
   ],
   "source": [
    "# Train model\n",
    "w1, w2, bias = gradient_descent(\n",
    "    X_train_scaled['age'].values,\n",
    "    X_train_scaled['affordibility'].values,\n",
    "    y_train.values,\n",
    "    epochs=1000,\n",
    "    loss_threshold=0.01\n",
    ")\n",
    "\n",
    "y_test_pred = batch_predict(X_test_scaled, w1, w2, bias)\n",
    "print(\"Accuracy on test set:\", accuracy(y_test.values, y_test_pred))\n"
   ]
  },
  {
   "cell_type": "code",
   "execution_count": null,
   "id": "35c3f5fd",
   "metadata": {},
   "outputs": [],
   "source": []
  }
 ],
 "metadata": {
  "kernelspec": {
   "display_name": "base",
   "language": "python",
   "name": "python3"
  },
  "language_info": {
   "codemirror_mode": {
    "name": "ipython",
    "version": 3
   },
   "file_extension": ".py",
   "mimetype": "text/x-python",
   "name": "python",
   "nbconvert_exporter": "python",
   "pygments_lexer": "ipython3",
   "version": "3.12.4"
  }
 },
 "nbformat": 4,
 "nbformat_minor": 5
}
